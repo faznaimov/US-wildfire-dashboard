{
 "cells": [
  {
   "cell_type": "code",
   "execution_count": 23,
   "metadata": {},
   "outputs": [],
   "source": [
    "import pandas as pd\n",
    "import numpy as np\n",
    "import geopandas as gpd\n",
    "import json "
   ]
  },
  {
   "cell_type": "code",
   "execution_count": 24,
   "metadata": {},
   "outputs": [
    {
     "data": {
      "text/html": [
       "<div>\n",
       "<style scoped>\n",
       "    .dataframe tbody tr th:only-of-type {\n",
       "        vertical-align: middle;\n",
       "    }\n",
       "\n",
       "    .dataframe tbody tr th {\n",
       "        vertical-align: top;\n",
       "    }\n",
       "\n",
       "    .dataframe thead th {\n",
       "        text-align: right;\n",
       "    }\n",
       "</style>\n",
       "<table border=\"1\" class=\"dataframe\">\n",
       "  <thead>\n",
       "    <tr style=\"text-align: right;\">\n",
       "      <th></th>\n",
       "      <th>date</th>\n",
       "      <th>class</th>\n",
       "      <th>cause</th>\n",
       "      <th>county</th>\n",
       "      <th>size</th>\n",
       "      <th>geometry</th>\n",
       "    </tr>\n",
       "  </thead>\n",
       "  <tbody>\n",
       "    <tr>\n",
       "      <th>0</th>\n",
       "      <td>04-02-2014</td>\n",
       "      <td>B</td>\n",
       "      <td>Debris Burning</td>\n",
       "      <td>Madison</td>\n",
       "      <td>1.0</td>\n",
       "      <td>POINT (-82.59318333 35.87323333)</td>\n",
       "    </tr>\n",
       "    <tr>\n",
       "      <th>1</th>\n",
       "      <td>03-19-2014</td>\n",
       "      <td>C</td>\n",
       "      <td>Campfire</td>\n",
       "      <td>BENTON</td>\n",
       "      <td>76.0</td>\n",
       "      <td>POINT (-89.3250919 34.8512267)</td>\n",
       "    </tr>\n",
       "    <tr>\n",
       "      <th>2</th>\n",
       "      <td>11-04-2014</td>\n",
       "      <td>B</td>\n",
       "      <td>Miscellaneous</td>\n",
       "      <td>NASSAU</td>\n",
       "      <td>1.3</td>\n",
       "      <td>POINT (-73.4863 40.8111)</td>\n",
       "    </tr>\n",
       "    <tr>\n",
       "      <th>3</th>\n",
       "      <td>05-26-2014</td>\n",
       "      <td>A</td>\n",
       "      <td>Lightning</td>\n",
       "      <td>Lee</td>\n",
       "      <td>0.1</td>\n",
       "      <td>POINT (-81.5985 26.6588)</td>\n",
       "    </tr>\n",
       "    <tr>\n",
       "      <th>4</th>\n",
       "      <td>11-16-2014</td>\n",
       "      <td>A</td>\n",
       "      <td>Miscellaneous</td>\n",
       "      <td>ESSEX</td>\n",
       "      <td>0.1</td>\n",
       "      <td>POINT (-73.85469999999999 44.3538)</td>\n",
       "    </tr>\n",
       "  </tbody>\n",
       "</table>\n",
       "</div>"
      ],
      "text/plain": [
       "         date class           cause   county  size  \\\n",
       "0  04-02-2014     B  Debris Burning  Madison   1.0   \n",
       "1  03-19-2014     C        Campfire   BENTON  76.0   \n",
       "2  11-04-2014     B   Miscellaneous   NASSAU   1.3   \n",
       "3  05-26-2014     A       Lightning      Lee   0.1   \n",
       "4  11-16-2014     A   Miscellaneous    ESSEX   0.1   \n",
       "\n",
       "                             geometry  \n",
       "0    POINT (-82.59318333 35.87323333)  \n",
       "1      POINT (-89.3250919 34.8512267)  \n",
       "2            POINT (-73.4863 40.8111)  \n",
       "3            POINT (-81.5985 26.6588)  \n",
       "4  POINT (-73.85469999999999 44.3538)  "
      ]
     },
     "execution_count": 24,
     "metadata": {},
     "output_type": "execute_result"
    }
   ],
   "source": [
    "map_data = gpd.read_file('assets/data/map_data.geojson')\n",
    "map_data.head()"
   ]
  },
  {
   "cell_type": "code",
   "execution_count": 13,
   "metadata": {},
   "outputs": [],
   "source": [
    "with open ('assets/data/map_data.geojson', 'r') as f:\n",
    "    data = json.load(f)\n",
    "    "
   ]
  },
  {
   "cell_type": "code",
   "execution_count": 14,
   "metadata": {},
   "outputs": [
    {
     "data": {
      "text/html": [
       "<div>\n",
       "<style scoped>\n",
       "    .dataframe tbody tr th:only-of-type {\n",
       "        vertical-align: middle;\n",
       "    }\n",
       "\n",
       "    .dataframe tbody tr th {\n",
       "        vertical-align: top;\n",
       "    }\n",
       "\n",
       "    .dataframe thead th {\n",
       "        text-align: right;\n",
       "    }\n",
       "</style>\n",
       "<table border=\"1\" class=\"dataframe\">\n",
       "  <thead>\n",
       "    <tr style=\"text-align: right;\">\n",
       "      <th></th>\n",
       "      <th>type</th>\n",
       "      <th>features</th>\n",
       "    </tr>\n",
       "  </thead>\n",
       "  <tbody>\n",
       "    <tr>\n",
       "      <th>0</th>\n",
       "      <td>FeatureCollection</td>\n",
       "      <td>{'type': 'Feature', 'geometry': {'type': 'Poin...</td>\n",
       "    </tr>\n",
       "    <tr>\n",
       "      <th>1</th>\n",
       "      <td>FeatureCollection</td>\n",
       "      <td>{'type': 'Feature', 'geometry': {'type': 'Poin...</td>\n",
       "    </tr>\n",
       "    <tr>\n",
       "      <th>2</th>\n",
       "      <td>FeatureCollection</td>\n",
       "      <td>{'type': 'Feature', 'geometry': {'type': 'Poin...</td>\n",
       "    </tr>\n",
       "    <tr>\n",
       "      <th>3</th>\n",
       "      <td>FeatureCollection</td>\n",
       "      <td>{'type': 'Feature', 'geometry': {'type': 'Poin...</td>\n",
       "    </tr>\n",
       "    <tr>\n",
       "      <th>4</th>\n",
       "      <td>FeatureCollection</td>\n",
       "      <td>{'type': 'Feature', 'geometry': {'type': 'Poin...</td>\n",
       "    </tr>\n",
       "  </tbody>\n",
       "</table>\n",
       "</div>"
      ],
      "text/plain": [
       "                type                                           features\n",
       "0  FeatureCollection  {'type': 'Feature', 'geometry': {'type': 'Poin...\n",
       "1  FeatureCollection  {'type': 'Feature', 'geometry': {'type': 'Poin...\n",
       "2  FeatureCollection  {'type': 'Feature', 'geometry': {'type': 'Poin...\n",
       "3  FeatureCollection  {'type': 'Feature', 'geometry': {'type': 'Poin...\n",
       "4  FeatureCollection  {'type': 'Feature', 'geometry': {'type': 'Poin..."
      ]
     },
     "execution_count": 14,
     "metadata": {},
     "output_type": "execute_result"
    }
   ],
   "source": [
    "df = pd.DataFrame(data)\n",
    "df.head()"
   ]
  },
  {
   "cell_type": "code",
   "execution_count": 17,
   "metadata": {},
   "outputs": [
    {
     "data": {
      "text/html": [
       "<div>\n",
       "<style scoped>\n",
       "    .dataframe tbody tr th:only-of-type {\n",
       "        vertical-align: middle;\n",
       "    }\n",
       "\n",
       "    .dataframe tbody tr th {\n",
       "        vertical-align: top;\n",
       "    }\n",
       "\n",
       "    .dataframe thead th {\n",
       "        text-align: right;\n",
       "    }\n",
       "</style>\n",
       "<table border=\"1\" class=\"dataframe\">\n",
       "  <thead>\n",
       "    <tr style=\"text-align: right;\">\n",
       "      <th></th>\n",
       "      <th>type</th>\n",
       "      <th>features</th>\n",
       "    </tr>\n",
       "  </thead>\n",
       "  <tbody>\n",
       "    <tr>\n",
       "      <th>0</th>\n",
       "      <td>FeatureCollection</td>\n",
       "      <td>{'type': 'Feature', 'geometry': {'type': 'Poin...</td>\n",
       "    </tr>\n",
       "    <tr>\n",
       "      <th>1</th>\n",
       "      <td>FeatureCollection</td>\n",
       "      <td>{'type': 'Feature', 'geometry': {'type': 'Poin...</td>\n",
       "    </tr>\n",
       "    <tr>\n",
       "      <th>2</th>\n",
       "      <td>FeatureCollection</td>\n",
       "      <td>{'type': 'Feature', 'geometry': {'type': 'Poin...</td>\n",
       "    </tr>\n",
       "    <tr>\n",
       "      <th>3</th>\n",
       "      <td>FeatureCollection</td>\n",
       "      <td>{'type': 'Feature', 'geometry': {'type': 'Poin...</td>\n",
       "    </tr>\n",
       "    <tr>\n",
       "      <th>4</th>\n",
       "      <td>FeatureCollection</td>\n",
       "      <td>{'type': 'Feature', 'geometry': {'type': 'Poin...</td>\n",
       "    </tr>\n",
       "  </tbody>\n",
       "</table>\n",
       "</div>"
      ],
      "text/plain": [
       "                type                                           features\n",
       "0  FeatureCollection  {'type': 'Feature', 'geometry': {'type': 'Poin...\n",
       "1  FeatureCollection  {'type': 'Feature', 'geometry': {'type': 'Poin...\n",
       "2  FeatureCollection  {'type': 'Feature', 'geometry': {'type': 'Poin...\n",
       "3  FeatureCollection  {'type': 'Feature', 'geometry': {'type': 'Poin...\n",
       "4  FeatureCollection  {'type': 'Feature', 'geometry': {'type': 'Poin..."
      ]
     },
     "execution_count": 17,
     "metadata": {},
     "output_type": "execute_result"
    }
   ],
   "source": [
    "data = pd.read_json('assets/data/map_data.geojson')\n",
    "data.head()"
   ]
  },
  {
   "cell_type": "code",
   "execution_count": null,
   "metadata": {},
   "outputs": [],
   "source": []
  }
 ],
 "metadata": {
  "kernelspec": {
   "display_name": "Python 3",
   "language": "python",
   "name": "python3"
  },
  "language_info": {
   "codemirror_mode": {
    "name": "ipython",
    "version": 3
   },
   "file_extension": ".py",
   "mimetype": "text/x-python",
   "name": "python",
   "nbconvert_exporter": "python",
   "pygments_lexer": "ipython3",
   "version": "3.7.3"
  }
 },
 "nbformat": 4,
 "nbformat_minor": 2
}
